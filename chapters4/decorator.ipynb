{
 "metadata": {
  "language_info": {
   "codemirror_mode": {
    "name": "ipython",
    "version": 3
   },
   "file_extension": ".py",
   "mimetype": "text/x-python",
   "name": "python",
   "nbconvert_exporter": "python",
   "pygments_lexer": "ipython3",
   "version": "3.8.8"
  },
  "orig_nbformat": 4,
  "kernelspec": {
   "name": "python3",
   "display_name": "Python 3.8.8 64-bit ('base': conda)"
  },
  "interpreter": {
   "hash": "89abc0094a69c300f868ab91b57da2ef53b901cbaf193524c5daf8e63454e9ae"
  }
 },
 "nbformat": 4,
 "nbformat_minor": 2,
 "cells": [
  {
   "cell_type": "code",
   "execution_count": 7,
   "metadata": {},
   "outputs": [
    {
     "output_type": "stream",
     "name": "stderr",
     "text": [
      "<ipython-input-7-2666ffe36c76>:14: DeprecationWarning: The 'warn' function is deprecated, use 'warning' instead\n",
      "  logging.warn(\"%s is running\" % func.__name__)\n",
      "WARNING:root:foo is running\n",
      "i am foo\n"
     ]
    }
   ],
   "source": [
    "# 让其他函数在不做任何代码修改的前提下增加额外功能。\n",
    "# 使用场景：插入日志、性能测试、事务处理、缓存、权限检验等\n",
    "\n",
    "\n",
    "# 场景：希望可以记录函数的执行日志\n",
    "\n",
    "# 方式1：直接在代码中添加日志代码。\n",
    "# 影响：导致大量雷同的代码。\n",
    "\n",
    "# 方式2：定义新的函数，专门处理日志。日志处理完之后再运行真正的业务代码\n",
    "\n",
    "import logging\n",
    "def use_logging(func):\n",
    "    logging.warn(\"%s is running\" % func.__name__)\n",
    "    return func()\n",
    "\n",
    "def foo():\n",
    "    print('i am foo')\n",
    "\n",
    "use_logging(foo)\n",
    "\n",
    "#影响：现在调用的函数非真正的业务逻辑函数"
   ]
  },
  {
   "cell_type": "code",
   "execution_count": 10,
   "metadata": {},
   "outputs": [
    {
     "output_type": "stream",
     "name": "stderr",
     "text": [
      "<ipython-input-10-1949fab4c50d>:4: DeprecationWarning: The 'warn' function is deprecated, use 'warning' instead\n",
      "  logging.warn(\"%s is running\" % func.__name__)\n",
      "WARNING:root:foo is running\n",
      "im foo\n"
     ]
    }
   ],
   "source": [
    "# 方式三：装饰器。方式2的升级处理。通过嵌套函数，第一层返回值为函数，赋值后再调用。\n",
    "def use_logging_dec(func):\n",
    "    def wrapper():\n",
    "        logging.warn(\"%s is running\" % func.__name__)\n",
    "        return func()\n",
    "    return wrapper\n",
    "\n",
    "@use_logging_dec\n",
    "def foo():\n",
    "    print('im foo')\n",
    "\n",
    "foo()"
   ]
  },
  {
   "cell_type": "code",
   "execution_count": 11,
   "metadata": {},
   "outputs": [
    {
     "output_type": "stream",
     "name": "stderr",
     "text": [
      "<ipython-input-10-1949fab4c50d>:4: DeprecationWarning: The 'warn' function is deprecated, use 'warning' instead\n",
      "  logging.warn(\"%s is running\" % func.__name__)\n",
      "WARNING:root:wrapper is running\n",
      "WARNING:root:foo is running\n",
      "im foo\n"
     ]
    }
   ],
   "source": [
    "foo = use_logging_dec(foo)\n",
    "foo()"
   ]
  },
  {
   "source": [
    "*args、**kwargs"
   ],
   "cell_type": "markdown",
   "metadata": {}
  },
  {
   "source": [
    "def use_logging(func,name,age):\n",
    "    logging.warn(\"%s is running\" % func.__name__)\n",
    "    return func(name,age)\n",
    "\n",
    "def foo(name,age):\n",
    "    print('my name is {0},im {1} years old'.format(name,age))\n",
    "\n",
    "use_logging(foo,'bevis',12)"
   ],
   "cell_type": "code",
   "metadata": {},
   "execution_count": 14,
   "outputs": [
    {
     "output_type": "stream",
     "name": "stderr",
     "text": [
      "<ipython-input-14-7ef399fc6185>:2: DeprecationWarning: The 'warn' function is deprecated, use 'warning' instead\n",
      "  logging.warn(\"%s is running\" % func.__name__)\n",
      "WARNING:root:foo is running\n",
      "my name is bevis,im 12 years old\n"
     ]
    }
   ]
  },
  {
   "cell_type": "code",
   "execution_count": 17,
   "metadata": {},
   "outputs": [
    {
     "output_type": "stream",
     "name": "stderr",
     "text": [
      "<ipython-input-17-074d4dcc51ff>:3: DeprecationWarning: The 'warn' function is deprecated, use 'warning' instead\n",
      "  logging.warn(\"%s is running\" % func.__name__)\n",
      "WARNING:root:foo is running\n",
      "my name is bevis,im 21 years old\n"
     ]
    }
   ],
   "source": [
    "def use_logging(func):\n",
    "    def warpper(name,age):\n",
    "        logging.warn(\"%s is running\" % func.__name__)\n",
    "        return func(name,age)\n",
    "    return warpper\n",
    "\n",
    "@use_logging\n",
    "def foo(name,age):\n",
    "    print('my name is {0},im {1} years old'.format(name,age))\n",
    "\n",
    "foo('bevis',21)\n",
    "\n",
    "# foo= use_logging(foo)\n",
    "# foo(name,age)"
   ]
  },
  {
   "source": [
    "带参数的装饰器"
   ],
   "cell_type": "markdown",
   "metadata": {}
  },
  {
   "cell_type": "code",
   "execution_count": 21,
   "metadata": {},
   "outputs": [
    {
     "output_type": "stream",
     "name": "stderr",
     "text": [
      "<ipython-input-21-bb620528fa1c>:5: DeprecationWarning: The 'warn' function is deprecated, use 'warning' instead\n",
      "  logging.warn(\"%s is running\" % func.__name__)\n",
      "WARNING:root:foo is running\n",
      "12\n",
      "i am foo\n"
     ]
    }
   ],
   "source": [
    "def use_logging(level,age):\n",
    "    def decorator(func):\n",
    "        def wrapper(*args, **kwargs):\n",
    "            if level == \"warn\":\n",
    "                logging.warn(\"%s is running\" % func.__name__)\n",
    "            elif level == \"info\":\n",
    "                logging.info(\"%s is running\" % func.__name__)\n",
    "            if age == 12:\n",
    "                print(age)\n",
    "            return func(*args)\n",
    "        return wrapper\n",
    "\n",
    "    return decorator\n",
    "\n",
    "@use_logging(level=\"warn\",age = 12)\n",
    "def foo(name='foo'):\n",
    "    print(\"i am %s\" % name)\n",
    "\n",
    "foo()"
   ]
  },
  {
   "source": [
    "类装饰器：依靠__call__方法"
   ],
   "cell_type": "markdown",
   "metadata": {}
  },
  {
   "cell_type": "code",
   "execution_count": 24,
   "metadata": {},
   "outputs": [
    {
     "output_type": "stream",
     "name": "stdout",
     "text": [
      "class decorator runing\nbar\nclass decorator ending\n"
     ]
    }
   ],
   "source": [
    "class Foo(object):\n",
    "    def __init__(self, func):\n",
    "        self._func = func\n",
    "\n",
    "    def __call__(self):\n",
    "        print ('class decorator runing')\n",
    "        self._func()\n",
    "        print ('class decorator ending')\n",
    "\n",
    "@Foo\n",
    "def bar():\n",
    "    print ('bar')\n",
    "\n",
    "bar()"
   ]
  },
  {
   "source": [
    "多个装饰器执行顺序"
   ],
   "cell_type": "markdown",
   "metadata": {}
  }
 ]
}